{
 "cells": [
  {
   "cell_type": "markdown",
   "metadata": {},
   "source": [
    "<h1>Let's take a look under the hood</h1>\n",
    "In order to get a better look at the data, I'm going to dig in a little bit to see what questions I think need to be asked and answered with this data set\n"
   ]
  },
  {
   "cell_type": "code",
   "execution_count": 219,
   "metadata": {},
   "outputs": [],
   "source": [
    "import numpy as np\n",
    "import pandas as pd\n",
    "import matplotlib.pyplot as plt\n",
    "from sklearn.model_selection import train_test_split\n",
    "\n",
    "from sklearn import datasets, linear_model\n",
    "from sklearn.metrics import mean_squared_error, r2_score, accuracy_score, mean_absolute_error\n",
    "\n",
    "%matplotlib inline"
   ]
  },
  {
   "cell_type": "markdown",
   "metadata": {},
   "source": [
    "There are three datasets in the Seattle Data from Airbnb: reviews, listings and calendar. I'm going to import each of these and take a look and see what questions I think are important given the data."
   ]
  },
  {
   "cell_type": "code",
   "execution_count": 220,
   "metadata": {},
   "outputs": [
    {
     "data": {
      "text/html": [
       "<div>\n",
       "<style scoped>\n",
       "    .dataframe tbody tr th:only-of-type {\n",
       "        vertical-align: middle;\n",
       "    }\n",
       "\n",
       "    .dataframe tbody tr th {\n",
       "        vertical-align: top;\n",
       "    }\n",
       "\n",
       "    .dataframe thead th {\n",
       "        text-align: right;\n",
       "    }\n",
       "</style>\n",
       "<table border=\"1\" class=\"dataframe\">\n",
       "  <thead>\n",
       "    <tr style=\"text-align: right;\">\n",
       "      <th></th>\n",
       "      <th>listing_id</th>\n",
       "      <th>id</th>\n",
       "      <th>date</th>\n",
       "      <th>reviewer_id</th>\n",
       "      <th>reviewer_name</th>\n",
       "      <th>comments</th>\n",
       "    </tr>\n",
       "  </thead>\n",
       "  <tbody>\n",
       "    <tr>\n",
       "      <th>0</th>\n",
       "      <td>7202016</td>\n",
       "      <td>38917982</td>\n",
       "      <td>2015-07-19</td>\n",
       "      <td>28943674</td>\n",
       "      <td>Bianca</td>\n",
       "      <td>Cute and cozy place. Perfect location to every...</td>\n",
       "    </tr>\n",
       "    <tr>\n",
       "      <th>1</th>\n",
       "      <td>7202016</td>\n",
       "      <td>39087409</td>\n",
       "      <td>2015-07-20</td>\n",
       "      <td>32440555</td>\n",
       "      <td>Frank</td>\n",
       "      <td>Kelly has a great room in a very central locat...</td>\n",
       "    </tr>\n",
       "    <tr>\n",
       "      <th>2</th>\n",
       "      <td>7202016</td>\n",
       "      <td>39820030</td>\n",
       "      <td>2015-07-26</td>\n",
       "      <td>37722850</td>\n",
       "      <td>Ian</td>\n",
       "      <td>Very spacious apartment, and in a great neighb...</td>\n",
       "    </tr>\n",
       "    <tr>\n",
       "      <th>3</th>\n",
       "      <td>7202016</td>\n",
       "      <td>40813543</td>\n",
       "      <td>2015-08-02</td>\n",
       "      <td>33671805</td>\n",
       "      <td>George</td>\n",
       "      <td>Close to Seattle Center and all it has to offe...</td>\n",
       "    </tr>\n",
       "    <tr>\n",
       "      <th>4</th>\n",
       "      <td>7202016</td>\n",
       "      <td>41986501</td>\n",
       "      <td>2015-08-10</td>\n",
       "      <td>34959538</td>\n",
       "      <td>Ming</td>\n",
       "      <td>Kelly was a great host and very accommodating ...</td>\n",
       "    </tr>\n",
       "  </tbody>\n",
       "</table>\n",
       "</div>"
      ],
      "text/plain": [
       "   listing_id        id        date  reviewer_id reviewer_name  \\\n",
       "0     7202016  38917982  2015-07-19     28943674        Bianca   \n",
       "1     7202016  39087409  2015-07-20     32440555         Frank   \n",
       "2     7202016  39820030  2015-07-26     37722850           Ian   \n",
       "3     7202016  40813543  2015-08-02     33671805        George   \n",
       "4     7202016  41986501  2015-08-10     34959538          Ming   \n",
       "\n",
       "                                            comments  \n",
       "0  Cute and cozy place. Perfect location to every...  \n",
       "1  Kelly has a great room in a very central locat...  \n",
       "2  Very spacious apartment, and in a great neighb...  \n",
       "3  Close to Seattle Center and all it has to offe...  \n",
       "4  Kelly was a great host and very accommodating ...  "
      ]
     },
     "execution_count": 220,
     "metadata": {},
     "output_type": "execute_result"
    }
   ],
   "source": [
    "reviews = pd.read_csv('./seattle/reviews.csv')\n",
    "reviews.head()"
   ]
  },
  {
   "cell_type": "code",
   "execution_count": 221,
   "metadata": {},
   "outputs": [
    {
     "data": {
      "text/plain": [
       "Index(['id', 'listing_url', 'scrape_id', 'last_scraped', 'name', 'summary',\n",
       "       'space', 'description', 'experiences_offered', 'neighborhood_overview',\n",
       "       'notes', 'transit', 'thumbnail_url', 'medium_url', 'picture_url',\n",
       "       'xl_picture_url', 'host_id', 'host_url', 'host_name', 'host_since',\n",
       "       'host_location', 'host_about', 'host_response_time',\n",
       "       'host_response_rate', 'host_acceptance_rate', 'host_is_superhost',\n",
       "       'host_thumbnail_url', 'host_picture_url', 'host_neighbourhood',\n",
       "       'host_listings_count', 'host_total_listings_count',\n",
       "       'host_verifications', 'host_has_profile_pic', 'host_identity_verified',\n",
       "       'street', 'neighbourhood', 'neighbourhood_cleansed',\n",
       "       'neighbourhood_group_cleansed', 'city', 'state', 'zipcode', 'market',\n",
       "       'smart_location', 'country_code', 'country', 'latitude', 'longitude',\n",
       "       'is_location_exact', 'property_type', 'room_type', 'accommodates',\n",
       "       'bathrooms', 'bedrooms', 'beds', 'bed_type', 'amenities', 'square_feet',\n",
       "       'price', 'weekly_price', 'monthly_price', 'security_deposit',\n",
       "       'cleaning_fee', 'guests_included', 'extra_people', 'minimum_nights',\n",
       "       'maximum_nights', 'calendar_updated', 'has_availability',\n",
       "       'availability_30', 'availability_60', 'availability_90',\n",
       "       'availability_365', 'calendar_last_scraped', 'number_of_reviews',\n",
       "       'first_review', 'last_review', 'review_scores_rating',\n",
       "       'review_scores_accuracy', 'review_scores_cleanliness',\n",
       "       'review_scores_checkin', 'review_scores_communication',\n",
       "       'review_scores_location', 'review_scores_value', 'requires_license',\n",
       "       'license', 'jurisdiction_names', 'instant_bookable',\n",
       "       'cancellation_policy', 'require_guest_profile_picture',\n",
       "       'require_guest_phone_verification', 'calculated_host_listings_count',\n",
       "       'reviews_per_month'],\n",
       "      dtype='object')"
      ]
     },
     "execution_count": 221,
     "metadata": {},
     "output_type": "execute_result"
    }
   ],
   "source": [
    "listings = pd.read_csv('./seattle/listings.csv')\n",
    "listings.columns\n",
    "\n",
    "#Printing out the columns here because there are 92 of them! That's a lot and I probably want to cut that down!"
   ]
  },
  {
   "cell_type": "code",
   "execution_count": 222,
   "metadata": {},
   "outputs": [
    {
     "data": {
      "text/plain": [
       "0     $85.00\n",
       "1    $150.00\n",
       "2    $975.00\n",
       "3    $100.00\n",
       "4    $450.00\n",
       "Name: price, dtype: object"
      ]
     },
     "execution_count": 222,
     "metadata": {},
     "output_type": "execute_result"
    }
   ],
   "source": [
    "listings.price.head()"
   ]
  },
  {
   "cell_type": "code",
   "execution_count": 223,
   "metadata": {},
   "outputs": [
    {
     "data": {
      "text/html": [
       "<div>\n",
       "<style scoped>\n",
       "    .dataframe tbody tr th:only-of-type {\n",
       "        vertical-align: middle;\n",
       "    }\n",
       "\n",
       "    .dataframe tbody tr th {\n",
       "        vertical-align: top;\n",
       "    }\n",
       "\n",
       "    .dataframe thead th {\n",
       "        text-align: right;\n",
       "    }\n",
       "</style>\n",
       "<table border=\"1\" class=\"dataframe\">\n",
       "  <thead>\n",
       "    <tr style=\"text-align: right;\">\n",
       "      <th></th>\n",
       "      <th>listing_id</th>\n",
       "      <th>date</th>\n",
       "      <th>available</th>\n",
       "      <th>price</th>\n",
       "    </tr>\n",
       "  </thead>\n",
       "  <tbody>\n",
       "    <tr>\n",
       "      <th>0</th>\n",
       "      <td>241032</td>\n",
       "      <td>2016-01-04</td>\n",
       "      <td>t</td>\n",
       "      <td>$85.00</td>\n",
       "    </tr>\n",
       "    <tr>\n",
       "      <th>1</th>\n",
       "      <td>241032</td>\n",
       "      <td>2016-01-05</td>\n",
       "      <td>t</td>\n",
       "      <td>$85.00</td>\n",
       "    </tr>\n",
       "    <tr>\n",
       "      <th>2</th>\n",
       "      <td>241032</td>\n",
       "      <td>2016-01-06</td>\n",
       "      <td>f</td>\n",
       "      <td>NaN</td>\n",
       "    </tr>\n",
       "    <tr>\n",
       "      <th>3</th>\n",
       "      <td>241032</td>\n",
       "      <td>2016-01-07</td>\n",
       "      <td>f</td>\n",
       "      <td>NaN</td>\n",
       "    </tr>\n",
       "    <tr>\n",
       "      <th>4</th>\n",
       "      <td>241032</td>\n",
       "      <td>2016-01-08</td>\n",
       "      <td>f</td>\n",
       "      <td>NaN</td>\n",
       "    </tr>\n",
       "  </tbody>\n",
       "</table>\n",
       "</div>"
      ],
      "text/plain": [
       "   listing_id        date available   price\n",
       "0      241032  2016-01-04         t  $85.00\n",
       "1      241032  2016-01-05         t  $85.00\n",
       "2      241032  2016-01-06         f     NaN\n",
       "3      241032  2016-01-07         f     NaN\n",
       "4      241032  2016-01-08         f     NaN"
      ]
     },
     "execution_count": 223,
     "metadata": {},
     "output_type": "execute_result"
    }
   ],
   "source": [
    "calendar = pd.read_csv('./seattle/calendar.csv')\n",
    "calendar.head()"
   ]
  },
  {
   "cell_type": "markdown",
   "metadata": {},
   "source": [
    "<h4>What can we use this data for? Or what questions can we ask about this data?</h4>\n",
    "\n",
    "Question 1: How many times do people change the price of their listing? \n",
    "- I know that I personally tried changing the listing of my house on Airbnb for an event, but I'm not sure how much this actually happens! I think this\n",
    "\n",
    "Question 2: How does the amount of reviews for a listing affect the price of a listing?\n",
    "- I rarely keep track of the amount of reviews for things when I buy them, just the overall rating! I know that this is a weird psychological thing, but it could definitely affect the price! It looks like Airbnb even keeps track of the reviews per month so that sounds important.\n",
    "\n",
    "Question 3: Can we predict the price of a property based on the reviews given? \n",
    "- I know that Airbnb probably does a lot of this, so I'm curious if this data will be enough! This should be fun! I'm currently a bit ahead and am coming back to complete this project, so I've done some with the nltk python package!\n",
    "\n"
   ]
  },
  {
   "cell_type": "markdown",
   "metadata": {},
   "source": [
    "<h2>Question 1</h2>\n",
    "<h4>How many times do people change the price of their listing?</h4>\n",
    "\n",
    "I think this should be a little bit of a data wrangling exercise, but it should show us some cool things! Let's pick up where we left off in the data wrangling to get the pieces of info we needed."
   ]
  },
  {
   "cell_type": "markdown",
   "metadata": {},
   "source": [
    "It's interesting here that we have quite a few NaNs for the price in the calendar data. We maybe should save those in a separate dataframe, but it looks like that's when they're taken off the market. Let's double check on that!"
   ]
  },
  {
   "cell_type": "code",
   "execution_count": 224,
   "metadata": {},
   "outputs": [
    {
     "name": "stdout",
     "output_type": "stream",
     "text": [
      "Listings shape:  (3818, 92)\n",
      "Reviews shape:  (84849, 6)\n",
      "Calendar shape:  (1393570, 4)\n"
     ]
    }
   ],
   "source": [
    "# Let's get a starting point for what our data actually has!\n",
    "print( \"Listings shape: \",listings.shape)\n",
    "print(\"Reviews shape: \", reviews.shape)\n",
    "print(\"Calendar shape: \",calendar.shape)"
   ]
  },
  {
   "cell_type": "code",
   "execution_count": 225,
   "metadata": {},
   "outputs": [
    {
     "data": {
      "text/plain": [
       "(459028, 4)"
      ]
     },
     "execution_count": 225,
     "metadata": {},
     "output_type": "execute_result"
    }
   ],
   "source": [
    "# let's create a subset of the calendar when the listing goes off the market that we can use later.\n",
    "unavailable_calendar = calendar[calendar.available == 'f']\n",
    "unavailable_calendar.shape"
   ]
  },
  {
   "cell_type": "markdown",
   "metadata": {},
   "source": [
    "Well, that's a lot of missing data. I assume that there's a lot of people that take their house off the market, but I'm not sure how many. Let's see how this works a little bit more. It's not part of my initial questions but it will help us understand the pricing a little bit more!"
   ]
  },
  {
   "cell_type": "code",
   "execution_count": 226,
   "metadata": {},
   "outputs": [
    {
     "name": "stdout",
     "output_type": "stream",
     "text": [
      "Unavailable without price: 459028\n",
      "Available without price: 0\n"
     ]
    }
   ],
   "source": [
    "available_calendar = calendar[calendar.available == 't']\n",
    "print(\"Unavailable without price: {}\".format(unavailable_calendar['price'].isna().sum()))\n",
    "print(\"Available without price: {}\".format(available_calendar['price'].isna().sum()))"
   ]
  },
  {
   "cell_type": "markdown",
   "metadata": {},
   "source": [
    "Gotcha! So there will always be a price for an available property. They remove the old price for a property when its off the market! They probably just save that elsewhere."
   ]
  },
  {
   "cell_type": "markdown",
   "metadata": {},
   "source": [
    "First thing let's see how often users change their price at all! This will be important!"
   ]
  },
  {
   "cell_type": "code",
   "execution_count": 227,
   "metadata": {},
   "outputs": [
    {
     "name": "stdout",
     "output_type": "stream",
     "text": [
      "Number of unique prices: 2115\n",
      "Total available listings: 3723\n",
      "Percent that change: 0.5680902497985496\n"
     ]
    }
   ],
   "source": [
    "# find all the new prices!\n",
    "unique_prices_s = available_calendar.groupby('listing_id')['price'].nunique()\n",
    "unique_prices = unique_prices_s.to_frame()\n",
    "count_changed_listings = unique_prices[unique_prices['price'] > 1].shape[0]\n",
    "\n",
    "print(\"Number of unique prices: {}\".format(count_changed_listings))\n",
    "print(\"Total available listings: {}\".format(unique_prices.shape[0]))\n",
    "print(\"Percent that change: {}\".format(count_changed_listings/unique_prices.shape[0]))"
   ]
  },
  {
   "cell_type": "markdown",
   "metadata": {},
   "source": [
    "That's a pretty good amount of listings that change their price! Let's graph it so we can see how much they actually change!"
   ]
  },
  {
   "cell_type": "code",
   "execution_count": 228,
   "metadata": {},
   "outputs": [
    {
     "data": {
      "text/plain": [
       "1    1608\n",
       "2     802\n",
       "3     268\n",
       "4     138\n",
       "5     130\n",
       "Name: price, dtype: int64"
      ]
     },
     "execution_count": 228,
     "metadata": {},
     "output_type": "execute_result"
    }
   ],
   "source": [
    "calendar_unique_data = pd.value_counts(unique_prices_s)\n",
    "calendar_unique_data.head()"
   ]
  },
  {
   "cell_type": "code",
   "execution_count": 229,
   "metadata": {},
   "outputs": [
    {
     "data": {
      "text/plain": [
       "([<matplotlib.axis.XTick at 0x15759546fd0>,\n",
       "  <matplotlib.axis.XTick at 0x15759546898>,\n",
       "  <matplotlib.axis.XTick at 0x15759546588>,\n",
       "  <matplotlib.axis.XTick at 0x1570da28198>,\n",
       "  <matplotlib.axis.XTick at 0x1570da285f8>,\n",
       "  <matplotlib.axis.XTick at 0x1570da28ac8>,\n",
       "  <matplotlib.axis.XTick at 0x1570da2f080>,\n",
       "  <matplotlib.axis.XTick at 0x1570da28a90>,\n",
       "  <matplotlib.axis.XTick at 0x1570da2f5f8>],\n",
       " <a list of 9 Text xticklabel objects>)"
      ]
     },
     "execution_count": 229,
     "metadata": {},
     "output_type": "execute_result"
    },
    {
     "data": {
      "image/png": "[encoded data removed]",
      "text/plain": [
       "<Figure size 432x288 with 1 Axes>"
      ]
     },
     "metadata": {
      "needs_background": "light"
     },
     "output_type": "display_data"
    }
   ],
   "source": [
    "plt.bar(calendar_unique_data.index, calendar_unique_data.values)\n",
    "plt.title(\"Number of times People change their Airbnb Listing\")\n",
    "plt.xlabel(\"Number of Different Prices\")\n",
    "plt.ylabel(\"Number of Listings\")\n",
    "plt.xticks(np.arange(0,180,step=20))"
   ]
  },
  {
   "cell_type": "code",
   "execution_count": 230,
   "metadata": {},
   "outputs": [
    {
     "data": {
      "text/plain": [
       "(287, 1)"
      ]
     },
     "execution_count": 230,
     "metadata": {},
     "output_type": "execute_result"
    }
   ],
   "source": [
    "unique_prices[unique_prices['price'] > 20 ].shape"
   ]
  },
  {
   "cell_type": "markdown",
   "metadata": {},
   "source": [
    "Based on this graph it looks like there are only a few people that are changing their price very much. A majority of the listings changed less than 20 times! To be fair, I'm only looking at the number of unique prices. So technically, if someone is moving back and forth between two prices that would be a different graph to look at. I think this is a decent look into the data and this graph should be good to bring to a business meeting and chat about! I was initially hopeful that I could do something cool and figure out if everyone in Seattle would change the price of their house around a certain event like they do in Austin for SXSW and Austin City Limits music festival. But I wasn't able to find anything on the web for Seattle that was similar! I think when you have a big city like Seattle there's always things going on and the listings are just more expensive!"
   ]
  },
  {
   "cell_type": "markdown",
   "metadata": {},
   "source": [
    "<h2>Question 2</h2>\n",
    "<h4>How does the amount of reviews affect the price of a listing</h4>\n",
    "\n",
    "I personally know that it's difficult to get people to come to a restaurant without any reviews of the place! So sometimes folks might change the price of their house based on the number of reviews!"
   ]
  },
  {
   "cell_type": "markdown",
   "metadata": {},
   "source": [
    "\n",
    "First things first, let's merge the calendar data pricing data with the reviews! I'm going to drop the columns that aren't necessary from both dataframes first!\n"
   ]
  },
  {
   "cell_type": "code",
   "execution_count": 231,
   "metadata": {},
   "outputs": [],
   "source": [
    "reviews.shape\n",
    "reviews.drop(columns=[\"id\", \"reviewer_id\", \"reviewer_name\", \"date\"], inplace=True)"
   ]
  },
  {
   "cell_type": "code",
   "execution_count": 232,
   "metadata": {},
   "outputs": [
    {
     "data": {
      "text/html": [
       "<div>\n",
       "<style scoped>\n",
       "    .dataframe tbody tr th:only-of-type {\n",
       "        vertical-align: middle;\n",
       "    }\n",
       "\n",
       "    .dataframe tbody tr th {\n",
       "        vertical-align: top;\n",
       "    }\n",
       "\n",
       "    .dataframe thead th {\n",
       "        text-align: right;\n",
       "    }\n",
       "</style>\n",
       "<table border=\"1\" class=\"dataframe\">\n",
       "  <thead>\n",
       "    <tr style=\"text-align: right;\">\n",
       "      <th></th>\n",
       "      <th>listing_id</th>\n",
       "      <th>price</th>\n",
       "    </tr>\n",
       "  </thead>\n",
       "  <tbody>\n",
       "    <tr>\n",
       "      <th>0</th>\n",
       "      <td>241032</td>\n",
       "      <td>$85.00</td>\n",
       "    </tr>\n",
       "    <tr>\n",
       "      <th>365</th>\n",
       "      <td>953595</td>\n",
       "      <td>$125.00</td>\n",
       "    </tr>\n",
       "    <tr>\n",
       "      <th>452</th>\n",
       "      <td>953595</td>\n",
       "      <td>$154.00</td>\n",
       "    </tr>\n",
       "    <tr>\n",
       "      <th>453</th>\n",
       "      <td>953595</td>\n",
       "      <td>$164.00</td>\n",
       "    </tr>\n",
       "    <tr>\n",
       "      <th>454</th>\n",
       "      <td>953595</td>\n",
       "      <td>$165.00</td>\n",
       "    </tr>\n",
       "  </tbody>\n",
       "</table>\n",
       "</div>"
      ],
      "text/plain": [
       "     listing_id    price\n",
       "0        241032   $85.00\n",
       "365      953595  $125.00\n",
       "452      953595  $154.00\n",
       "453      953595  $164.00\n",
       "454      953595  $165.00"
      ]
     },
     "execution_count": 232,
     "metadata": {},
     "output_type": "execute_result"
    }
   ],
   "source": [
    "prices = available_calendar.drop(columns=['available', 'date'])\n",
    "prices.drop_duplicates(subset='price', keep=\"first\", inplace=True)\n",
    "prices.head()"
   ]
  },
  {
   "cell_type": "code",
   "execution_count": 233,
   "metadata": {},
   "outputs": [
    {
     "data": {
      "text/html": [
       "<div>\n",
       "<style scoped>\n",
       "    .dataframe tbody tr th:only-of-type {\n",
       "        vertical-align: middle;\n",
       "    }\n",
       "\n",
       "    .dataframe tbody tr th {\n",
       "        vertical-align: top;\n",
       "    }\n",
       "\n",
       "    .dataframe thead th {\n",
       "        text-align: right;\n",
       "    }\n",
       "</style>\n",
       "<table border=\"1\" class=\"dataframe\">\n",
       "  <thead>\n",
       "    <tr style=\"text-align: right;\">\n",
       "      <th></th>\n",
       "      <th>listing_id</th>\n",
       "      <th>comments</th>\n",
       "      <th>price</th>\n",
       "    </tr>\n",
       "  </thead>\n",
       "  <tbody>\n",
       "    <tr>\n",
       "      <th>0</th>\n",
       "      <td>7202016</td>\n",
       "      <td>Cute and cozy place. Perfect location to every...</td>\n",
       "      <td>NaN</td>\n",
       "    </tr>\n",
       "    <tr>\n",
       "      <th>1</th>\n",
       "      <td>7202016</td>\n",
       "      <td>Kelly has a great room in a very central locat...</td>\n",
       "      <td>NaN</td>\n",
       "    </tr>\n",
       "    <tr>\n",
       "      <th>2</th>\n",
       "      <td>7202016</td>\n",
       "      <td>Very spacious apartment, and in a great neighb...</td>\n",
       "      <td>NaN</td>\n",
       "    </tr>\n",
       "    <tr>\n",
       "      <th>3</th>\n",
       "      <td>7202016</td>\n",
       "      <td>Close to Seattle Center and all it has to offe...</td>\n",
       "      <td>NaN</td>\n",
       "    </tr>\n",
       "    <tr>\n",
       "      <th>4</th>\n",
       "      <td>7202016</td>\n",
       "      <td>Kelly was a great host and very accommodating ...</td>\n",
       "      <td>NaN</td>\n",
       "    </tr>\n",
       "  </tbody>\n",
       "</table>\n",
       "</div>"
      ],
      "text/plain": [
       "   listing_id                                           comments price\n",
       "0     7202016  Cute and cozy place. Perfect location to every...   NaN\n",
       "1     7202016  Kelly has a great room in a very central locat...   NaN\n",
       "2     7202016  Very spacious apartment, and in a great neighb...   NaN\n",
       "3     7202016  Close to Seattle Center and all it has to offe...   NaN\n",
       "4     7202016  Kelly was a great host and very accommodating ...   NaN"
      ]
     },
     "execution_count": 233,
     "metadata": {},
     "output_type": "execute_result"
    }
   ],
   "source": [
    "reviews_prices = pd.merge(reviews, prices, on=\"listing_id\", how=\"outer\")\n",
    "reviews_prices.head()"
   ]
  },
  {
   "cell_type": "code",
   "execution_count": 234,
   "metadata": {},
   "outputs": [
    {
     "data": {
      "text/plain": [
       "(99854, 3)"
      ]
     },
     "execution_count": 234,
     "metadata": {},
     "output_type": "execute_result"
    }
   ],
   "source": [
    "reviews_prices.shape"
   ]
  },
  {
   "cell_type": "markdown",
   "metadata": {},
   "source": [
    "Welp! It looks like at least some of these listings don't have a price associated with them anymore! Maybe they are older listings that are no longer available. Let's take out all of the ones without prices!"
   ]
  },
  {
   "cell_type": "code",
   "execution_count": 235,
   "metadata": {},
   "outputs": [
    {
     "data": {
      "text/plain": [
       "(17591, 3)"
      ]
     },
     "execution_count": 235,
     "metadata": {},
     "output_type": "execute_result"
    }
   ],
   "source": [
    "reviews_prices.dropna(axis=0, how='any', subset={'price'}, inplace=True)\n",
    "reviews_prices.head()\n",
    "reviews_prices.shape\n"
   ]
  },
  {
   "cell_type": "markdown",
   "metadata": {},
   "source": [
    "Woah that took out a lot of reviews! Well I'm still hoping to at least answer the question I initially asked, but this will be an important thing for me to note in my analysis later! Let's make another column with the count of the reviews for that listing!"
   ]
  },
  {
   "cell_type": "code",
   "execution_count": 236,
   "metadata": {},
   "outputs": [],
   "source": [
    "reviews_prices[\"count\"] = reviews_prices.groupby('listing_id')['listing_id'].transform(\"count\")\n"
   ]
  },
  {
   "cell_type": "code",
   "execution_count": 237,
   "metadata": {},
   "outputs": [
    {
     "data": {
      "text/html": [
       "<div>\n",
       "<style scoped>\n",
       "    .dataframe tbody tr th:only-of-type {\n",
       "        vertical-align: middle;\n",
       "    }\n",
       "\n",
       "    .dataframe tbody tr th {\n",
       "        vertical-align: top;\n",
       "    }\n",
       "\n",
       "    .dataframe thead th {\n",
       "        text-align: right;\n",
       "    }\n",
       "</style>\n",
       "<table border=\"1\" class=\"dataframe\">\n",
       "  <thead>\n",
       "    <tr style=\"text-align: right;\">\n",
       "      <th></th>\n",
       "      <th>listing_id</th>\n",
       "      <th>comments</th>\n",
       "      <th>price</th>\n",
       "      <th>count</th>\n",
       "    </tr>\n",
       "  </thead>\n",
       "  <tbody>\n",
       "    <tr>\n",
       "      <th>2552</th>\n",
       "      <td>7207641</td>\n",
       "      <td>Joe and Anna are very friendly. They made us f...</td>\n",
       "      <td>$348.00</td>\n",
       "      <td>5</td>\n",
       "    </tr>\n",
       "    <tr>\n",
       "      <th>2553</th>\n",
       "      <td>7207641</td>\n",
       "      <td>Listing was accurate, host even left neighborh...</td>\n",
       "      <td>$348.00</td>\n",
       "      <td>5</td>\n",
       "    </tr>\n",
       "    <tr>\n",
       "      <th>2554</th>\n",
       "      <td>7207641</td>\n",
       "      <td>Great house in a great neighborhood! Everythin...</td>\n",
       "      <td>$348.00</td>\n",
       "      <td>5</td>\n",
       "    </tr>\n",
       "    <tr>\n",
       "      <th>2555</th>\n",
       "      <td>7207641</td>\n",
       "      <td>Great house! Top notch location and appliances...</td>\n",
       "      <td>$348.00</td>\n",
       "      <td>5</td>\n",
       "    </tr>\n",
       "    <tr>\n",
       "      <th>2556</th>\n",
       "      <td>7207641</td>\n",
       "      <td>Very clean and organized.  The hosts provided ...</td>\n",
       "      <td>$348.00</td>\n",
       "      <td>5</td>\n",
       "    </tr>\n",
       "  </tbody>\n",
       "</table>\n",
       "</div>"
      ],
      "text/plain": [
       "      listing_id                                           comments    price  \\\n",
       "2552     7207641  Joe and Anna are very friendly. They made us f...  $348.00   \n",
       "2553     7207641  Listing was accurate, host even left neighborh...  $348.00   \n",
       "2554     7207641  Great house in a great neighborhood! Everythin...  $348.00   \n",
       "2555     7207641  Great house! Top notch location and appliances...  $348.00   \n",
       "2556     7207641  Very clean and organized.  The hosts provided ...  $348.00   \n",
       "\n",
       "      count  \n",
       "2552      5  \n",
       "2553      5  \n",
       "2554      5  \n",
       "2555      5  \n",
       "2556      5  "
      ]
     },
     "execution_count": 237,
     "metadata": {},
     "output_type": "execute_result"
    }
   ],
   "source": [
    "reviews_prices.head()\n"
   ]
  },
  {
   "cell_type": "markdown",
   "metadata": {},
   "source": [
    "Hmm I'm curious if the price is actually a string and not an integer here. If we're trying to graph and see if there is a correlation that will be important that it's a number!"
   ]
  },
  {
   "cell_type": "code",
   "execution_count": 238,
   "metadata": {},
   "outputs": [
    {
     "data": {
      "text/plain": [
       "str"
      ]
     },
     "execution_count": 238,
     "metadata": {},
     "output_type": "execute_result"
    }
   ],
   "source": [
    "type(reviews_prices[\"price\"].iloc[0])"
   ]
  },
  {
   "cell_type": "markdown",
   "metadata": {},
   "source": [
    "Nailed it! I found you! You cannot hide from me! Ok, ok I'll clean it up now."
   ]
  },
  {
   "cell_type": "code",
   "execution_count": 239,
   "metadata": {},
   "outputs": [],
   "source": [
    "reviews_prices['price'] = pd.to_numeric(reviews_prices['price'].map(lambda x: x.strip('$').replace(',','')))"
   ]
  },
  {
   "cell_type": "code",
   "execution_count": 240,
   "metadata": {},
   "outputs": [],
   "source": [
    "reviews_prices_no_dupes = reviews_prices.drop_duplicates(subset=\"listing_id\")"
   ]
  },
  {
   "cell_type": "markdown",
   "metadata": {},
   "source": [
    "With this dataframe we can make a pretty cool chart!"
   ]
  },
  {
   "cell_type": "code",
   "execution_count": 241,
   "metadata": {},
   "outputs": [
    {
     "data": {
      "text/plain": [
       "Text(0, 0.5, 'Price')"
      ]
     },
     "execution_count": 241,
     "metadata": {},
     "output_type": "execute_result"
    },
    {
     "data": {
      "image/png": "[encoded data removed]",
      "text/plain": [
       "<Figure size 432x288 with 1 Axes>"
      ]
     },
     "metadata": {
      "needs_background": "light"
     },
     "output_type": "display_data"
    }
   ],
   "source": [
    "plt.scatter(reviews_prices_no_dupes[\"count\"], reviews_prices_no_dupes[\"price\"])\n",
    "\n",
    "#plt.MaxNLocator(3)\n",
    "plt.title(\"Number of Reviews to Price\")\n",
    "plt.xlabel(\"Number of Reviews\")\n",
    "plt.ylabel(\"Price\")\n"
   ]
  },
  {
   "cell_type": "markdown",
   "metadata": {},
   "source": [
    "Well that didn't go as planned, it looks like the number of reviews don't really affect the price. But now we know! I know that the number of reviews is important to some people when they're looking at products online, but it looks like the actual count of them isn't that important!"
   ]
  },
  {
   "cell_type": "markdown",
   "metadata": {},
   "source": [
    "<h2>Question 3</h2>\n",
    "<h4>Can we predict the price of a property based on the reviews?</h4>\n",
    "\n",
    "Plan of attack:\n",
    "\n",
    "1. I'm going to use some NLP word tokenization stuff that I recall from the Data Engineering course! \n",
    "2. I'm going to run these through a pipeline.\n",
    "3. I'm going to check my accuracy there and if I can improve anything via GridSearch I'm going to try that!"
   ]
  },
  {
   "cell_type": "code",
   "execution_count": null,
   "metadata": {},
   "outputs": [
    {
     "name": "stderr",
     "output_type": "stream",
     "text": [
      "[nltk_data] Downloading package punkt to\n",
      "[nltk_data]     C:\\Users\\Nevin\\AppData\\Roaming\\nltk_data...\n",
      "[nltk_data]   Package punkt is already up-to-date!\n",
      "[nltk_data] Downloading package wordnet to\n",
      "[nltk_data]     C:\\Users\\Nevin\\AppData\\Roaming\\nltk_data...\n",
      "[nltk_data]   Package wordnet is already up-to-date!\n",
      "[nltk_data] Downloading package stopwords to\n",
      "[nltk_data]     C:\\Users\\Nevin\\AppData\\Roaming\\nltk_data...\n",
      "[nltk_data]   Package stopwords is already up-to-date!\n"
     ]
    }
   ],
   "source": [
    "from nltk.tokenize import word_tokenize\n",
    "from nltk.stem import WordNetLemmatizer\n",
    "import nltk\n",
    "nltk.download(['punkt', 'wordnet', 'stopwords'])\n",
    "from nltk.tokenize import word_tokenize, sent_tokenize\n",
    "from sklearn.pipeline import Pipeline\n",
    "from sklearn.feature_extraction.text import CountVectorizer, TfidfTransformer\n",
    "from sklearn.ensemble import RandomForestRegressor, RandomForestClassifier\n",
    "from nltk.corpus import stopwords\n",
    "\n",
    "def tokenize(text):\n",
    "    tokens = word_tokenize(text)\n",
    "    stop_words = set(stopwords.words('english')) \n",
    "    lemmatizer = WordNetLemmatizer()\n",
    "    tokens = [w for w in tokens if not w in stop_words]\n",
    "    tokens = [lemmatizer.lemmatize(w.lower().strip()) for w in tokens]\n",
    "    return tokens"
   ]
  },
  {
   "cell_type": "code",
   "execution_count": null,
   "metadata": {},
   "outputs": [],
   "source": [
    "pipeline = Pipeline([\n",
    "    ('vect', CountVectorizer(tokenizer=tokenize)),\n",
    "    ('tfidf', TfidfTransformer()),\n",
    "    ('clf', RandomForestRegressor())\n",
    "])\n",
    "\n",
    "    "
   ]
  },
  {
   "cell_type": "code",
   "execution_count": null,
   "metadata": {},
   "outputs": [],
   "source": [
    "from sklearn.model_selection import train_test_split\n",
    "reviews_prices.dropna(inplace=True)\n",
    "X = reviews_prices['comments']\n",
    "Y = reviews_prices['price']\n",
    "X_train, X_test, y_train, y_test = train_test_split(X, Y, test_size = 0.2)"
   ]
  },
  {
   "cell_type": "code",
   "execution_count": null,
   "metadata": {},
   "outputs": [
    {
     "name": "stderr",
     "output_type": "stream",
     "text": [
      "c:\\python\\python36\\lib\\site-packages\\sklearn\\ensemble\\forest.py:245: FutureWarning: The default value of n_estimators will change from 10 in version 0.20 to 100 in 0.22.\n",
      "  \"10 in version 0.20 to 100 in 0.22.\", FutureWarning)\n"
     ]
    }
   ],
   "source": [
    "pipeline.fit(X_train, y_train)"
   ]
  },
  {
   "cell_type": "code",
   "execution_count": null,
   "metadata": {},
   "outputs": [],
   "source": [
    "y_preds = pipeline.predict(X_test)"
   ]
  },
  {
   "cell_type": "code",
   "execution_count": null,
   "metadata": {},
   "outputs": [],
   "source": [
    "mean_squared_error(y_test, y_preds)"
   ]
  },
  {
   "cell_type": "code",
   "execution_count": null,
   "metadata": {},
   "outputs": [],
   "source": [
    "from math import sqrt\n",
    "rmse = sqrt(mean_squared_error(y_test, y_preds))\n",
    "rmse"
   ]
  },
  {
   "cell_type": "code",
   "execution_count": null,
   "metadata": {},
   "outputs": [],
   "source": [
    "y_preds[:10]"
   ]
  },
  {
   "cell_type": "code",
   "execution_count": null,
   "metadata": {},
   "outputs": [],
   "source": [
    "y_test.head(10)"
   ]
  },
  {
   "cell_type": "code",
   "execution_count": null,
   "metadata": {},
   "outputs": [],
   "source": [
    "r2_score(y_test, y_preds)"
   ]
  },
  {
   "cell_type": "code",
   "execution_count": null,
   "metadata": {},
   "outputs": [],
   "source": [
    "y_preds.shape"
   ]
  },
  {
   "cell_type": "code",
   "execution_count": null,
   "metadata": {},
   "outputs": [],
   "source": [
    "mean_absolute_error(y_test, y_preds)"
   ]
  },
  {
   "cell_type": "markdown",
   "metadata": {},
   "source": [
    "Wow! That's pretty good I think! I want to try and fine-tune this a little bit more. But this is a great starting point! This means that we were off by an average of $49 dollars per prediction. I would think that our prediction would be much worse actually! \n",
    "\n",
    "Looking at the graph from question 2, it looks like outliers here could really push it one direction or another. The root mean squared error for example is almost double our mean absolute error, which also tells me that the outliers are really affecting our error.\n",
    "\n",
    "I want to try to get even better! Never give up, never surrender!\n",
    "\n",
    "While googling around about this project I found this <a href=\"https://towardsdatascience.com/detecting-bad-customer-reviews-with-nlp-d8b36134dc7e\">article</a> which uses an nltk package called SentimentIntensityAnalyzer.\n",
    "  \n",
    "I think I'm going to try and use that instead! Why not! Actually, let's see if we can compare a bunch of different pipelines! First, then I'll change the tokenize function to see if it will work!"
   ]
  },
  {
   "cell_type": "code",
   "execution_count": null,
   "metadata": {},
   "outputs": [],
   "source": [
    "from sklearn.neighbors import KNeighborsRegressor\n",
    "from sklearn.linear_model import LinearRegression\n",
    "\n",
    "pipeline_knn = Pipeline([\n",
    "    ('vect', CountVectorizer(tokenizer=tokenize)),\n",
    "    ('tfidf', TfidfTransformer()),\n",
    "    ('knn', RandomForestClassifier())\n",
    "])\n",
    "\n",
    "pipeline_rf = Pipeline([\n",
    "    ('vect', CountVectorizer(tokenizer=tokenize)),\n",
    "    ('tfidf', TfidfTransformer()),\n",
    "    ('clf', RandomForestRegressor())\n",
    "])\n",
    "\n",
    "pipeline_lin = Pipeline([\n",
    "    ('vect', CountVectorizer(tokenizer=tokenize)),\n",
    "    ('tfidf', TfidfTransformer()),\n",
    "    ('clf', LinearRegression())\n",
    "])\n",
    "\n",
    "\n",
    "def compare_model_residuals(models,X,y):\n",
    "    f, (ax1, ax2, ax3) = plt.subplots(3, sharex=True, sharey=True)\n",
    "    plt.title('Plotting residuals using training (blue) and test (green) data')\n",
    "    mean_sq_e = []\n",
    "    for m, ax in ((models[0], ax1),(models[1], ax2),(models[2], ax3)):\n",
    "        X_train, X_test, y_train, y_test = train_test_split(X, y, test_size=0.2)\n",
    "        m[0].fit(X_train, y_train)\n",
    "        y_preds_train = m[0].predict(X_train)\n",
    "        y_preds_test = m[0].predict(X_test)\n",
    "        ax.scatter(m[0].predict(X_train), y_preds_train - y_train,c='#2B94E9',s=40,alpha=0.5)\n",
    "        ax.scatter(m[0].predict(X_test), y_preds_test - y_test,c='#94BA65',s=40)\n",
    "        ax.hlines(y=0, xmin=0, xmax=100)\n",
    "        ax.set_title(m[1])\n",
    "        ax.set_ylabel('Residuals')\n",
    "        mean_sq_e.append(\"Model {} with absolute error {}\".format(m[1], str(mean_absolute_error(y_test,y_preds_test))))\n",
    "    plt.xlim([20,70])\n",
    "    plt.ylim([-100,100])  \n",
    "    plt.show()\n",
    "    print(mean_sq_e)\n",
    "models = np.array([(pipeline_rf,'Random Forest'), (pipeline_lin,'Linear Regression'), (pipeline_knn,'KNearest Regression')])\n",
    "compare_model_residuals(models, X, Y)\n",
    "\n"
   ]
  },
  {
   "cell_type": "markdown",
   "metadata": {},
   "source": [
    "Well the error looks best with Linear Regression! I like this residuals function as it helps me figure out where and how I missed! Next I want to try to use a sentiment analyzer for tokens instead of tfidf and count vectorizer"
   ]
  },
  {
   "cell_type": "code",
   "execution_count": null,
   "metadata": {},
   "outputs": [],
   "source": [
    "from vaderSentiment.vaderSentiment import SentimentIntensityAnalyzer\n",
    "from sklearn.base import BaseEstimator, TransformerMixin\n",
    "from sklearn.pipeline import FeatureUnion\n",
    "\n",
    "class ReviewSentiment(BaseEstimator, TransformerMixin):\n",
    "    \"\"\"Extract features from each document for DictVectorizer\"\"\"\n",
    "    def fit(self, X, y=None):\n",
    "        return self\n",
    "\n",
    "    def transform(self, data):\n",
    "        analyser = SentimentIntensityAnalyzer()\n",
    "        polarity_list = [analyser.polarity_scores(comment) for _,comment in data.iteritems()]\n",
    "        return pd.DataFrame(polarity_list)\n",
    "\n",
    "pipeline_sent = Pipeline([\n",
    "    ('polarity', ReviewSentiment()),\n",
    "    ('clf', RandomForestRegressor())\n",
    "])\n",
    "\n",
    "pipeline_sent.fit(X_train, y_train)\n",
    "    \n",
    "y_preds = pipeline.predict(X_test)    \n",
    "\n",
    "mean_absolute_error(y_test, y_preds)"
   ]
  },
  {
   "cell_type": "code",
   "execution_count": null,
   "metadata": {},
   "outputs": [],
   "source": [
    "r2_score(y_test, y_preds)"
   ]
  },
  {
   "cell_type": "markdown",
   "metadata": {},
   "source": [
    "Well! I'm sure there's a lot more digging that we could do to fine tune this model. But for now, I know that we can probably use a combination of sentiment analysis as well as good old fashioned Tfidf (term frequency–inverse document frequency). I think that overall, we have answered our third question for a first pass - you can predict price based off only reviews. Unfortunately, there's a lot more that goes into the price of a house that we should glean from the listings dataframe! I also think that sometimes it's ok and preferred to ask weird questions like this that make sure that we value what is important and devalue what is truly not important!\n",
    "\n",
    "Thanks!"
   ]
  },
  {
   "cell_type": "code",
   "execution_count": null,
   "metadata": {},
   "outputs": [],
   "source": []
  }
 ],
 "metadata": {
  "kernelspec": {
   "display_name": "Python 3",
   "language": "python",
   "name": "python3"
  },
  "language_info": {
   "codemirror_mode": {
    "name": "ipython",
    "version": 3
   },
   "file_extension": ".py",
   "mimetype": "text/x-python",
   "name": "python",
   "nbconvert_exporter": "python",
   "pygments_lexer": "ipython3",
   "version": "3.6.7"
  }
 },
 "nbformat": 4,
 "nbformat_minor": 2
}
